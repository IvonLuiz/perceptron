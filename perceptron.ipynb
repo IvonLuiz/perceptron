{
 "cells": [
  {
   "cell_type": "markdown",
   "metadata": {},
   "source": [
    "# Perceptron\n",
    "\n"
   ]
  },
  {
   "cell_type": "code",
   "execution_count": 812,
   "metadata": {},
   "outputs": [],
   "source": [
    "import numpy as np\n",
    "import matplotlib.pyplot as plt"
   ]
  },
  {
   "cell_type": "markdown",
   "metadata": {},
   "source": [
    "* x1 e x2: dados de entrada.\n",
    "* w1 e w2: pesos que serão multiplicados pelos dados de entrada.\n",
    "* b: bias, também é um peso, porém é chamado de “peso livre” por não ser multiplicado com nenhuma outra variável.\n",
    "* z: soma das multiplicações e adição do bias e posteriormente aplicado a função de ativação, que é responsável pela saída do dado processado.\n",
    "* função de ativação: função matemática responsável por produzir o dado binário de saída. Normalmente na função de ativação é utilizada a função degrau, onde se a saída da função for maior ou igual a 0, o resultado produzido será 1, se for menor, resultará em 0. Nessa atividade também experimentei a função de ativação sigmoid\n",
    "* erro: valor esperado subtraído do valor predito pelo modelo.\n",
    "* taxa de aprendizagem: quantifica o quanto nosso modelo vai atualizar a cada passo de aprendizagem. Chamado de alfa ou lr (learning_rate)"
   ]
  },
  {
   "cell_type": "code",
   "execution_count": null,
   "metadata": {},
   "outputs": [],
   "source": [
    "class Perceptron:\n",
    "\n",
    "    def __init__(self, input_size):\n",
    "        # Random small weights\n",
    "        self.w = np.random.random(input_size)\n",
    "        self.b = np.random.random()\n",
    "        \n",
    "    def step(self, x):\n",
    "        # Returns 1 if x > 0. Returns 0 otherwise\n",
    "        return np.heaviside(x, 0)\n",
    "\n",
    "    def forward(self, inputs, activation=\"sigmoid\"):\n",
    "        z = np.dot(inputs, self.w.T) + self.b\n",
    "        \n",
    "        if activation.lower() == \"step\":\n",
    "            z = self.step(z)\n",
    "        elif activation.lower() == \"sigmoid\":\n",
    "            z = self.sigmoid(z)\n",
    "        else:\n",
    "            return ValueError\n",
    "\n",
    "        return z \n",
    "    \n",
    "    def train(self, inputs, outputs, lr, epochs, activation=\"sigmoid\"):\n",
    "        outputs = outputs.flatten()\n",
    "        loss_hist = []\n",
    "\n",
    "        for e in range(1, epochs):\n",
    "            predictions = self.forward(inputs, activation=activation)\n",
    "            \n",
    "            error = outputs - predictions\n",
    "            loss = self.binary_cross_entropy_loss(outputs, predictions)\n",
    "            loss_hist.append(loss)\n",
    "\n",
    "            # Update parameters\n",
    "            self.w += lr * np.dot(inputs.T, error)  # dor product updates all w's\n",
    "            self.b += lr * np.sum(error)\n",
    "\n",
    "            if (e % 100) == 1.0:\n",
    "                print(f\"Epoch {e}/{epochs}, Weights: {np.round(self.w, 2)}, Bias: {np.round(self.b, 2)} Loss: {loss}\")\n",
    "\n",
    "        return loss_hist\n",
    "\n",
    "    def sigmoid(self, x):\n",
    "        return 1 / (1 + np.exp(-x))\n",
    "\n",
    "    def binary_cross_entropy_loss(self, y_true, y_pred):\n",
    "        # Epsilon to prevent log(0)\n",
    "        epsilon = 1e-15\n",
    "        y_pred = np.clip(y_pred, epsilon, 1 - epsilon)\n",
    "\n",
    "        # Formula\n",
    "        loss = -np.mean(y_true * np.log(y_pred) + (1 - y_true) * np.log(1 - y_pred))\n",
    "        \n",
    "        return loss"
   ]
  },
  {
   "cell_type": "markdown",
   "metadata": {},
   "source": [
    "## Logic gates\n",
    "\n",
    "\n",
    "[<img src=\"https://cdn.shopify.com/s/files/1/0611/1644/9018/files/Gate_in_Computer_Science_reference_sheet_e70131cb-748f-488f-9257-6149e56781d1_1024x1024.jpg?v=1681415691\">](https://computerengineeringforbabies.com/blogs/engineering/logic-gate)"
   ]
  },
  {
   "cell_type": "markdown",
   "metadata": {},
   "source": [
    "### AND logic case"
   ]
  },
  {
   "cell_type": "code",
   "execution_count": 814,
   "metadata": {},
   "outputs": [],
   "source": [
    "percp = Perceptron(2)"
   ]
  },
  {
   "cell_type": "code",
   "execution_count": 815,
   "metadata": {},
   "outputs": [],
   "source": [
    "inputs = np.array([[0, 0], [0, 1], [1, 0], [1, 1]])\n",
    "outputs = np.float64([[0], [0], [0], [1]])"
   ]
  },
  {
   "cell_type": "code",
   "execution_count": 816,
   "metadata": {},
   "outputs": [
    {
     "name": "stdout",
     "output_type": "stream",
     "text": [
      "Epoch 1/1000, Weights: [0.19 0.73], Bias: -0.09 Loss: 0.7653313299263915\n",
      "Epoch 101/1000, Weights: [1.83 1.89], Bias: -3.07 Loss: 0.2481106300390561\n",
      "Epoch 201/1000, Weights: [2.75 2.77], Bias: -4.37 Loss: 0.1635471696996152\n",
      "Epoch 301/1000, Weights: [3.39 3.39], Bias: -5.29 Loss: 0.12202463617441474\n",
      "Epoch 401/1000, Weights: [3.88 3.88], Bias: -6.01 Loss: 0.09705180471502745\n",
      "Epoch 501/1000, Weights: [4.27 4.27], Bias: -6.6 Loss: 0.08037718062900823\n",
      "Epoch 601/1000, Weights: [4.61 4.61], Bias: -7.1 Loss: 0.06847580262323656\n",
      "Epoch 701/1000, Weights: [4.9 4.9], Bias: -7.53 Loss: 0.0595712778798694\n",
      "Epoch 801/1000, Weights: [5.15 5.15], Bias: -7.91 Loss: 0.05266891385281068\n",
      "Epoch 901/1000, Weights: [5.38 5.38], Bias: -8.25 Loss: 0.047168441758972196\n"
     ]
    }
   ],
   "source": [
    "hist = percp.train(inputs, outputs, 0.1, 1000)"
   ]
  },
  {
   "cell_type": "code",
   "execution_count": 817,
   "metadata": {},
   "outputs": [
    {
     "data": {
      "text/plain": [
       "[<matplotlib.lines.Line2D at 0x2678e05cb90>]"
      ]
     },
     "execution_count": 817,
     "metadata": {},
     "output_type": "execute_result"
    },
    {
     "data": {
      "image/png": "[encoded data removed]",
      "text/plain": [
       "<Figure size 640x480 with 1 Axes>"
      ]
     },
     "metadata": {},
     "output_type": "display_data"
    }
   ],
   "source": [
    "plt.plot(hist)"
   ]
  },
  {
   "cell_type": "code",
   "execution_count": 818,
   "metadata": {},
   "outputs": [
    {
     "name": "stdout",
     "output_type": "stream",
     "text": [
      "Predictions:\n",
      "0.00019249538750423694\n",
      "0.0487327164476162\n",
      "0.048731397676437506\n",
      "0.9316508152574647\n"
     ]
    }
   ],
   "source": [
    "pred_1 = percp.forward([0, 0])\n",
    "pred_2 = percp.forward([0, 1])\n",
    "pred_3 = percp.forward([1, 0])\n",
    "pred_4 = percp.forward([1, 1])\n",
    "\n",
    "print(\"Predictions:\")\n",
    "print(pred_1)\n",
    "print(pred_2)\n",
    "print(pred_3)\n",
    "print(pred_4)"
   ]
  },
  {
   "cell_type": "markdown",
   "metadata": {},
   "source": [
    "## OR logic case"
   ]
  },
  {
   "cell_type": "code",
   "execution_count": 819,
   "metadata": {},
   "outputs": [],
   "source": [
    "percp = Perceptron(2)"
   ]
  },
  {
   "cell_type": "code",
   "execution_count": 820,
   "metadata": {},
   "outputs": [],
   "source": [
    "inputs = np.array([[0, 0], [0, 1], [1, 0], [1, 1]])\n",
    "outputs = np.float64([[0], [1], [1], [1]])"
   ]
  },
  {
   "cell_type": "code",
   "execution_count": 821,
   "metadata": {},
   "outputs": [
    {
     "name": "stdout",
     "output_type": "stream",
     "text": [
      "Epoch 1/1000, Weights: [0.74 0.27], Bias: 0.8 Loss: 0.45976479123956626\n",
      "Epoch 101/1000, Weights: [2.6  2.48], Bias: -0.61 Loss: 0.18047944561199486\n",
      "Epoch 201/1000, Weights: [3.66 3.61], Bias: -1.26 Loss: 0.10806365579175353\n",
      "Epoch 301/1000, Weights: [4.39 4.36], Bias: -1.66 Loss: 0.0759737840388418\n",
      "Epoch 401/1000, Weights: [4.94 4.92], Bias: -1.96 Loss: 0.05816879943909232\n",
      "Epoch 501/1000, Weights: [5.38 5.37], Bias: -2.19 Loss: 0.046950894547628345\n",
      "Epoch 601/1000, Weights: [5.74 5.74], Bias: -2.38 Loss: 0.03927584206273234\n",
      "Epoch 701/1000, Weights: [6.06 6.05], Bias: -2.54 Loss: 0.03371215148215191\n",
      "Epoch 801/1000, Weights: [6.33 6.32], Bias: -2.68 Loss: 0.029502784002884044\n",
      "Epoch 901/1000, Weights: [6.57 6.57], Bias: -2.8 Loss: 0.026211619293256473\n"
     ]
    }
   ],
   "source": [
    "# Passamos os dados de entrada e de saída, junto com a taxa de aprendizagem e a quantidade de épocas de treinamento\n",
    "hist = percp.train(inputs, outputs, 0.1, 1000)"
   ]
  },
  {
   "cell_type": "code",
   "execution_count": 822,
   "metadata": {},
   "outputs": [
    {
     "name": "stdout",
     "output_type": "stream",
     "text": [
      "Predictions:\n",
      "0.05151984667118256\n",
      "0.9794597117156709\n",
      "0.9795081347525739\n",
      "0.9999761697078537\n"
     ]
    }
   ],
   "source": [
    "pred_1 = percp.forward([0, 0])\n",
    "pred_2 = percp.forward([0, 1])\n",
    "pred_3 = percp.forward([1, 0])\n",
    "pred_4 = percp.forward([1, 1])\n",
    "\n",
    "print(\"Predictions:\")\n",
    "print(pred_1)\n",
    "print(pred_2)\n",
    "print(pred_3)\n",
    "print(pred_4)"
   ]
  },
  {
   "cell_type": "code",
   "execution_count": 823,
   "metadata": {},
   "outputs": [
    {
     "data": {
      "text/plain": [
       "[<matplotlib.lines.Line2D at 0x2678e162090>]"
      ]
     },
     "execution_count": 823,
     "metadata": {},
     "output_type": "execute_result"
    },
    {
     "data": {
      "image/png": "[encoded data removed]",
      "text/plain": [
       "<Figure size 640x480 with 1 Axes>"
      ]
     },
     "metadata": {},
     "output_type": "display_data"
    }
   ],
   "source": [
    "plt.plot(hist)"
   ]
  },
  {
   "cell_type": "markdown",
   "metadata": {},
   "source": [
    "## XOR logic case"
   ]
  },
  {
   "cell_type": "code",
   "execution_count": 824,
   "metadata": {},
   "outputs": [],
   "source": [
    "percp = Perceptron(2)"
   ]
  },
  {
   "cell_type": "code",
   "execution_count": 825,
   "metadata": {},
   "outputs": [],
   "source": [
    "inputs = np.array([[0, 0], [0, 1], [1, 0], [1, 1]])\n",
    "outputs = np.float64([[1], [0], [0], [1]])"
   ]
  },
  {
   "cell_type": "code",
   "execution_count": 826,
   "metadata": {},
   "outputs": [
    {
     "name": "stdout",
     "output_type": "stream",
     "text": [
      "Epoch 1/1000, Weights: [0.9  0.15], Bias: 0.36 Loss: 0.8422198838336811\n",
      "Epoch 101/1000, Weights: [0.07 0.01], Bias: -0.05 Loss: 0.6933095024859859\n",
      "Epoch 201/1000, Weights: [0.01 0.01], Bias: -0.01 Loss: 0.6931518495563085\n",
      "Epoch 301/1000, Weights: [0. 0.], Bias: -0.0 Loss: 0.6931473640797134\n",
      "Epoch 401/1000, Weights: [0. 0.], Bias: -0.0 Loss: 0.6931471882310966\n",
      "Epoch 501/1000, Weights: [0. 0.], Bias: -0.0 Loss: 0.6931471808837137\n",
      "Epoch 601/1000, Weights: [0. 0.], Bias: -0.0 Loss: 0.6931471805736302\n",
      "Epoch 701/1000, Weights: [0. 0.], Bias: -0.0 Loss: 0.6931471805605238\n",
      "Epoch 801/1000, Weights: [0. 0.], Bias: -0.0 Loss: 0.6931471805599697\n",
      "Epoch 901/1000, Weights: [0. 0.], Bias: -0.0 Loss: 0.6931471805599463\n"
     ]
    }
   ],
   "source": [
    "hist = percp.train(inputs, outputs, 0.1, 1000)"
   ]
  },
  {
   "cell_type": "code",
   "execution_count": 827,
   "metadata": {},
   "outputs": [
    {
     "data": {
      "text/plain": [
       "[<matplotlib.lines.Line2D at 0x2678e23e810>]"
      ]
     },
     "execution_count": 827,
     "metadata": {},
     "output_type": "execute_result"
    },
    {
     "data": {
      "image/png": "[encoded data removed]",
      "text/plain": [
       "<Figure size 640x480 with 1 Axes>"
      ]
     },
     "metadata": {},
     "output_type": "display_data"
    }
   ],
   "source": [
    "plt.plot(hist)"
   ]
  },
  {
   "cell_type": "code",
   "execution_count": 828,
   "metadata": {},
   "outputs": [
    {
     "name": "stdout",
     "output_type": "stream",
     "text": [
      "Predictions:\n",
      "0.4999999922944718\n",
      "0.49999999878975543\n",
      "0.4999999987917926\n",
      "0.5000000052870762\n"
     ]
    }
   ],
   "source": [
    "\n",
    "pred_1 = percp.forward([0, 0])\n",
    "pred_2 = percp.forward([0, 1])\n",
    "pred_3 = percp.forward([1, 0])\n",
    "pred_4 = percp.forward([1, 1])\n",
    "\n",
    "print(\"Predictions:\")\n",
    "print(pred_1)\n",
    "print(pred_2)\n",
    "print(pred_3)\n",
    "print(pred_4)\n"
   ]
  }
 ],
 "metadata": {
  "kernelspec": {
   "display_name": "Python 3",
   "language": "python",
   "name": "python3"
  },
  "language_info": {
   "codemirror_mode": {
    "name": "ipython",
    "version": 3
   },
   "file_extension": ".py",
   "mimetype": "text/x-python",
   "name": "python",
   "nbconvert_exporter": "python",
   "pygments_lexer": "ipython3",
   "version": "3.11.9"
  }
 },
 "nbformat": 4,
 "nbformat_minor": 2
}
