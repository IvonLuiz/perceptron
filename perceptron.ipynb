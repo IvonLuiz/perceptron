{
 "cells": [
  {
   "cell_type": "markdown",
   "metadata": {},
   "source": []
  },
  {
   "cell_type": "code",
   "execution_count": 540,
   "metadata": {},
   "outputs": [],
   "source": [
    "import numpy as np\n",
    "import matplotlib.pyplot as plt"
   ]
  },
  {
   "cell_type": "markdown",
   "metadata": {},
   "source": [
    "* x1 e x2: dados de entrada.\n",
    "* w1 e w2: pesos que serão multiplicados pelos dados de entrada.\n",
    "* b: bias, também é um peso, porém é chamado de “peso livre” por não ser multiplicado com nenhuma outra variável.\n",
    "* z: soma das multiplicações e adição do bias e posteriormente aplicado a função de ativação, que é responsável pela saída do dado processado.\n",
    "* função de ativação: função matemática responsável por produzir o dado binário de saída. Normalmente na função de ativação é utilizada a função degrau, onde se a saída da função for maior ou igual a 0, o resultado produzido será 1, se for menor, resultará em 0.\n",
    "* erro: valor esperado subtraído do valor predito pelo modelo.\n",
    "* taxa de aprendizagem: taxa e"
   ]
  },
  {
   "cell_type": "code",
   "execution_count": 541,
   "metadata": {},
   "outputs": [],
   "source": [
    "class Perceptron:\n",
    "\n",
    "    def __init__(self, input_size):\n",
    "        # Random weights\n",
    "        self.w = np.random.random(input_size)\n",
    "        self.b = np.random.random()\n",
    "        \n",
    "    def step(self, x):\n",
    "        # if x > 0:\n",
    "        #     return 1\n",
    "        # return 0\n",
    "        # return x\n",
    "        return np.heaviside(x, -1)\n",
    "\n",
    "    def forward(self, inputs):\n",
    "        output = np.dot(inputs, self.w.T) + self.b\n",
    "        output = self.sigmoid(output)\n",
    "\n",
    "        return output\n",
    "    \n",
    "    def train(self, inputs, outputs, lr, epochs):\n",
    "        outputs = outputs.flatten()\n",
    "        loss_hist = []\n",
    "\n",
    "        for e in range(epochs):\n",
    "            predictions = self.forward(inputs)\n",
    "\n",
    "            error = outputs - predictions\n",
    "            loss = self.binary_cross_entropy_loss(outputs, predictions)\n",
    "            loss_hist.append(loss)\n",
    "\n",
    "\n",
    "            self.w += lr * np.dot(inputs.T, error)\n",
    "            self.b += lr * np.sum(error)\n",
    "\n",
    "            if (e / 100) == 1:\n",
    "                print(f\"Epoch {e+1}/{epochs}, Weights: {np.round(self.w, 2)}, Bias: {np.round(self.b, 2)} Loss: {loss}\")\n",
    "\n",
    "\n",
    "        return loss_hist\n",
    "\n",
    "    def mse_loss(self, y_pred, y_true):\n",
    "        loss = np.mean((y_pred - y_true) ** 2)\n",
    "        return loss\n",
    "\n",
    "    def sigmoid(self, x):\n",
    "        sigmoid = 1 / (1 + np.exp(-x))\n",
    "        return sigmoid\n",
    "\n",
    "    def binary_cross_entropy_loss(self, y_true, y_pred):\n",
    "        # Evita log(0) com um pequeno epsilon\n",
    "        epsilon = 1e-15\n",
    "        y_pred = np.clip(y_pred, epsilon, 1 - epsilon)\n",
    "        \n",
    "        # Fórmula da Binary Cross-Entropy Loss\n",
    "        loss = -np.mean(y_true * np.log(y_pred) + (1 - y_true) * np.log(1 - y_pred))\n",
    "        return loss"
   ]
  },
  {
   "cell_type": "code",
   "execution_count": 542,
   "metadata": {},
   "outputs": [],
   "source": [
    "percp = Perceptron(2)"
   ]
  },
  {
   "cell_type": "markdown",
   "metadata": {},
   "source": [
    "## AND logic case"
   ]
  },
  {
   "cell_type": "code",
   "execution_count": 543,
   "metadata": {},
   "outputs": [],
   "source": [
    "inputs = np.array([[0, 0], [0, 1], [1, 0], [1, 1]])\n",
    "outputs = np.float64([[0], [0], [0], [1]])"
   ]
  },
  {
   "cell_type": "code",
   "execution_count": 544,
   "metadata": {},
   "outputs": [
    {
     "name": "stdout",
     "output_type": "stream",
     "text": [
      "Epoch 101/1000, Weights: [1.86 1.78], Bias: -3.02 Loss: 0.25266828585723944\n"
     ]
    }
   ],
   "source": [
    "hist = percp.train(inputs, outputs, 0.1, 1000)"
   ]
  },
  {
   "cell_type": "code",
   "execution_count": 545,
   "metadata": {},
   "outputs": [
    {
     "data": {
      "text/plain": [
       "[<matplotlib.lines.Line2D at 0x2678632c2d0>]"
      ]
     },
     "execution_count": 545,
     "metadata": {},
     "output_type": "execute_result"
    },
    {
     "data": {
      "image/png": "[encoded data removed]",
      "text/plain": [
       "<Figure size 640x480 with 1 Axes>"
      ]
     },
     "metadata": {},
     "output_type": "display_data"
    }
   ],
   "source": [
    "plt.plot(hist)"
   ]
  },
  {
   "cell_type": "code",
   "execution_count": 546,
   "metadata": {},
   "outputs": [
    {
     "name": "stdout",
     "output_type": "stream",
     "text": [
      "Predictions:\n",
      "0.0001938631199028975\n",
      "0.04884000539323436\n",
      "0.048841421665911655\n",
      "0.9314979148304611\n"
     ]
    }
   ],
   "source": [
    "pred_1 = percp.forward([0, 0])\n",
    "pred_2 = percp.forward([0, 1])\n",
    "pred_3 = percp.forward([1, 0])\n",
    "pred_4 = percp.forward([1, 1])\n",
    "\n",
    "print(\"Predictions:\")\n",
    "print(pred_1)\n",
    "print(pred_2)\n",
    "print(pred_3)\n",
    "print(pred_4)"
   ]
  },
  {
   "cell_type": "markdown",
   "metadata": {},
   "source": [
    "## OR logic case"
   ]
  },
  {
   "cell_type": "code",
   "execution_count": 547,
   "metadata": {},
   "outputs": [],
   "source": [
    "inputs = np.array([[0, 0], [0, 1], [1, 0], [1, 1]])\n",
    "outputs = np.float64([[0], [1], [1], [1]])"
   ]
  },
  {
   "cell_type": "code",
   "execution_count": 548,
   "metadata": {},
   "outputs": [
    {
     "name": "stdout",
     "output_type": "stream",
     "text": [
      "Epoch 101/1000, Weights: [7.65 7.65], Bias: -4.48 Loss: 0.02359309811557685\n"
     ]
    }
   ],
   "source": [
    "# Passamos os dados de entrada e de saída, junto com a taxa de aprendizagem e a quantidade de épocas de treinamento\n",
    "hist = percp.train(inputs, outputs, 0.1, 1000)"
   ]
  },
  {
   "cell_type": "code",
   "execution_count": 549,
   "metadata": {},
   "outputs": [
    {
     "name": "stdout",
     "output_type": "stream",
     "text": [
      "Predictions:\n",
      "0.018899392702376616\n",
      "0.9922344310531673\n",
      "0.992234457529309\n",
      "0.9999988200862195\n"
     ]
    }
   ],
   "source": [
    "pred_1 = percp.forward([0, 0])\n",
    "pred_2 = percp.forward([0, 1])\n",
    "pred_3 = percp.forward([1, 0])\n",
    "pred_4 = percp.forward([1, 1])\n",
    "\n",
    "print(\"Predictions:\")\n",
    "print(pred_1)\n",
    "print(pred_2)\n",
    "print(pred_3)\n",
    "print(pred_4)"
   ]
  },
  {
   "cell_type": "code",
   "execution_count": 550,
   "metadata": {},
   "outputs": [
    {
     "data": {
      "text/plain": [
       "[<matplotlib.lines.Line2D at 0x267865d5990>]"
      ]
     },
     "execution_count": 550,
     "metadata": {},
     "output_type": "execute_result"
    },
    {
     "data": {
      "image/png": "[encoded data removed]",
      "text/plain": [
       "<Figure size 640x480 with 1 Axes>"
      ]
     },
     "metadata": {},
     "output_type": "display_data"
    }
   ],
   "source": [
    "plt.plot(hist)"
   ]
  },
  {
   "cell_type": "markdown",
   "metadata": {},
   "source": [
    "## XOR logic case"
   ]
  },
  {
   "cell_type": "code",
   "execution_count": 551,
   "metadata": {},
   "outputs": [],
   "source": [
    "percp = Perceptron(2)"
   ]
  },
  {
   "cell_type": "code",
   "execution_count": 552,
   "metadata": {},
   "outputs": [],
   "source": [
    "inputs = np.array([[0, 0], [0, 1], [1, 0], [1, 1]])\n",
    "outputs = np.float64([[1], [0], [0], [1]])"
   ]
  },
  {
   "cell_type": "code",
   "execution_count": 553,
   "metadata": {},
   "outputs": [
    {
     "name": "stdout",
     "output_type": "stream",
     "text": [
      "Epoch 101/1000, Weights: [0.   0.01], Bias: -0.01 Loss: 0.69314881685163\n"
     ]
    }
   ],
   "source": [
    "hist = percp.train(inputs, outputs, 0.1, 1000)"
   ]
  },
  {
   "cell_type": "code",
   "execution_count": 554,
   "metadata": {},
   "outputs": [
    {
     "data": {
      "text/plain": [
       "[<matplotlib.lines.Line2D at 0x267868a4d50>]"
      ]
     },
     "execution_count": 554,
     "metadata": {},
     "output_type": "execute_result"
    },
    {
     "data": {
      "image/png": "[encoded data removed]",
      "text/plain": [
       "<Figure size 640x480 with 1 Axes>"
      ]
     },
     "metadata": {},
     "output_type": "display_data"
    }
   ],
   "source": [
    "plt.plot(hist)"
   ]
  },
  {
   "cell_type": "code",
   "execution_count": 555,
   "metadata": {},
   "outputs": [
    {
     "name": "stdout",
     "output_type": "stream",
     "text": [
      "Predictions:\n",
      "0.49999999904713865\n",
      "0.49999999985049237\n",
      "0.4999999998504432\n",
      "0.5000000006537969\n"
     ]
    }
   ],
   "source": [
    "\n",
    "pred_1 = percp.forward([0, 0])\n",
    "pred_2 = percp.forward([0, 1])\n",
    "pred_3 = percp.forward([1, 0])\n",
    "pred_4 = percp.forward([1, 1])\n",
    "\n",
    "print(\"Predictions:\")\n",
    "print(pred_1)\n",
    "print(pred_2)\n",
    "print(pred_3)\n",
    "print(pred_4)\n"
   ]
  }
 ],
 "metadata": {
  "kernelspec": {
   "display_name": "Python 3",
   "language": "python",
   "name": "python3"
  },
  "language_info": {
   "codemirror_mode": {
    "name": "ipython",
    "version": 3
   },
   "file_extension": ".py",
   "mimetype": "text/x-python",
   "name": "python",
   "nbconvert_exporter": "python",
   "pygments_lexer": "ipython3",
   "version": "3.11.9"
  }
 },
 "nbformat": 4,
 "nbformat_minor": 2
}
